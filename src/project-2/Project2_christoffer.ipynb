{
 "metadata": {
  "language_info": {
   "codemirror_mode": {
    "name": "ipython",
    "version": 3
   },
   "file_extension": ".py",
   "mimetype": "text/x-python",
   "name": "python",
   "nbconvert_exporter": "python",
   "pygments_lexer": "ipython3",
   "version": "3.8.6-final"
  },
  "orig_nbformat": 2,
  "kernelspec": {
   "name": "python3",
   "display_name": "Python 3"
  }
 },
 "nbformat": 4,
 "nbformat_minor": 2,
 "cells": [
  {
   "source": [
    "# Project 2"
   ],
   "cell_type": "markdown",
   "metadata": {}
  },
  {
   "source": [
    "## Exercise 2 Improved policy\n",
    "\n",
    "For the improved policy we are doing exacly as suggested, \"simply selecting, for each $x_t$, the action maximising expected reward according to your model\", and for our model we are using logistic regression conditioned on $a$. This can be expressed through a single logistic regression model:\n",
    "\n",
    "$$ P(y=1|x, a) = \\frac{1}{1 + e^{f(x, a)}} $$\n",
    "$$ f(x, a) = x\\beta_0 (1 - a) + x\\beta_1 a $$\n",
    "\n",
    "Here $\\beta_i$ is a column vector of coefficients for $a=i$, and I assume that there has been added a collumn of ones to the $x$ matrix for the intercepts.\n",
    "\n",
    "This model is equivalent to grouping the data by actions and fitting an individual model for each possible action, which is much simpler to implement."
   ],
   "cell_type": "markdown",
   "metadata": {}
  },
  {
   "source": [
    "The expected utility, given the improved policy $\\hat{\\pi}$ and model parameters $\\theta$, trained on the historical data, can be written as:\n",
    "\n",
    "$$\n",
    "\\begin{align}\n",
    "        E_\\theta^{\\hat{\\pi}}[U]   & = E_\\theta^{\\hat{\\pi}}[\\sum_{t=1}^T r_t] = \\sum_{t=1}^T E_\\theta^{\\hat{\\pi}}[r_t | x] \\\\\n",
    "        E_\\theta^{\\hat{\\pi}}[r_t] & = E_\\theta^{\\hat{\\pi}}[y_t - 0.1a] \\\\\n",
    "                                  & = E_\\theta^{\\hat{\\pi}}[y_t - 0.1a | a=0] p_\\theta^{\\hat{\\pi}}(a=0) + E_\\theta^{\\hat{\\pi}}[y_t - 0.1a | a=1] p_\\theta^{\\hat{\\pi}}(a=1) \\\\\n",
    "                                  & = E_\\theta^{\\hat{\\pi}}[y_t | a=0] p_\\theta^{\\hat{\\pi}}(a=0) + \\left(E_\\theta^{\\hat{\\pi}}[y_t| a=1] -0.1 \\right) p_\\theta^{\\hat{\\pi}}(a=1) \\\\\n",
    "\\end{align}\n",
    "$$\n",
    "\n",
    "Now, question is wether $E_\\theta^{\\hat{\\pi}}[y_t | a]$ we can estimate with our model"
   ],
   "cell_type": "markdown",
   "metadata": {}
  },
  {
   "cell_type": "code",
   "execution_count": 1,
   "metadata": {
    "tags": []
   },
   "outputs": [
    {
     "output_type": "execute_result",
     "data": {
      "text/plain": [
       "5180.90586636934"
      ]
     },
     "metadata": {},
     "execution_count": 1
    }
   ],
   "source": [
    "from logistic_recommender import LogisticRecommender\n",
    "import pandas as pd\n",
    "\n",
    "data_X = pd.read_csv(\"data/medical/historical_X.dat\", delim_whitespace=True, header=None, dtype='bool').to_numpy()\n",
    "data_a = pd.read_csv(\"data/medical/historical_A.dat\", delim_whitespace=True, header=None, dtype='bool').to_numpy().reshape(-1)\n",
    "data_y = pd.read_csv(\"data/medical/historical_Y.dat\", delim_whitespace=True, header=None, dtype='bool').to_numpy().reshape(-1)\n",
    "\n",
    "log_reccomender = LogisticRecommender(2, 2)\n",
    "log_reccomender.estimate_utility(data_X, data_a, data_y)"
   ]
  },
  {
   "cell_type": "code",
   "execution_count": null,
   "metadata": {},
   "outputs": [],
   "source": []
  }
 ]
}