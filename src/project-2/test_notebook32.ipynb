{
 "metadata": {
  "language_info": {
   "codemirror_mode": {
    "name": "ipython",
    "version": 3
   },
   "file_extension": ".py",
   "mimetype": "text/x-python",
   "name": "python",
   "nbconvert_exporter": "python",
   "pygments_lexer": "ipython3",
   "version": "3.7.6-final"
  },
  "orig_nbformat": 2,
  "kernelspec": {
   "name": "python3",
   "display_name": "Python 3"
  }
 },
 "nbformat": 4,
 "nbformat_minor": 2,
 "cells": [
  {
   "cell_type": "code",
   "execution_count": 1,
   "metadata": {},
   "outputs": [],
   "source": [
    "import json\n",
    "import csv\n",
    "#with open('/Users/mjdioli/Documents/STK-IN5000/ml-society-science/src/project-2/final_analysis.json') as json_file:\n",
    "    #data = json.load(json_file)\n",
    "import pandas as pd\n",
    "import numpy as np\n",
    "import tqdm\n",
    "import matplotlib.pyplot as plt\n",
    "\n",
    "from TestRecommender import fixed_treatments, final_full_analysis, test_exploration"
   ]
  },
  {
   "cell_type": "code",
   "execution_count": 2,
   "metadata": {},
   "outputs": [
    {
     "output_type": "error",
     "ename": "TypeError",
     "evalue": "_append_dispatcher() missing 1 required positional argument: 'values'",
     "traceback": [
      "\u001b[0;31m---------------------------------------------------------------------------\u001b[0m",
      "\u001b[0;31mTypeError\u001b[0m                                 Traceback (most recent call last)",
      "\u001b[0;32m<ipython-input-2-1895f34d0aea>\u001b[0m in \u001b[0;36m<module>\u001b[0;34m\u001b[0m\n\u001b[1;32m      1\u001b[0m \u001b[0;31m#Test exploration\u001b[0m\u001b[0;34m\u001b[0m\u001b[0;34m\u001b[0m\u001b[0;34m\u001b[0m\u001b[0m\n\u001b[1;32m      2\u001b[0m \u001b[0mnp\u001b[0m\u001b[0;34m.\u001b[0m\u001b[0mrandom\u001b[0m\u001b[0;34m.\u001b[0m\u001b[0mseed\u001b[0m\u001b[0;34m(\u001b[0m\u001b[0;36m1\u001b[0m\u001b[0;34m)\u001b[0m\u001b[0;34m\u001b[0m\u001b[0;34m\u001b[0m\u001b[0m\n\u001b[0;32m----> 3\u001b[0;31m \u001b[0mresults\u001b[0m \u001b[0;34m=\u001b[0m \u001b[0mtest_exploration\u001b[0m\u001b[0;34m(\u001b[0m\u001b[0;36m5000\u001b[0m\u001b[0;34m,\u001b[0m \u001b[0mepsilons\u001b[0m \u001b[0;34m=\u001b[0m \u001b[0;36m25\u001b[0m\u001b[0;34m)\u001b[0m\u001b[0;34m\u001b[0m\u001b[0;34m\u001b[0m\u001b[0m\n\u001b[0m",
      "\u001b[0;32m~/Documents/STK-IN5000/ml-society-science/src/project-2/TestRecommender.py\u001b[0m in \u001b[0;36mtest_exploration\u001b[0;34m(n_tests, generator, epsilons)\u001b[0m\n\u001b[1;32m    146\u001b[0m \u001b[0;34m\u001b[0m\u001b[0m\n\u001b[1;32m    147\u001b[0m     \u001b[0mutilities\u001b[0m \u001b[0;34m=\u001b[0m\u001b[0;34m{\u001b[0m\u001b[0;34m}\u001b[0m\u001b[0;34m\u001b[0m\u001b[0;34m\u001b[0m\u001b[0m\n\u001b[0;32m--> 148\u001b[0;31m     \u001b[0;32mfor\u001b[0m \u001b[0mepsilon\u001b[0m \u001b[0;32min\u001b[0m \u001b[0mnp\u001b[0m\u001b[0;34m.\u001b[0m\u001b[0mappend\u001b[0m\u001b[0;34m(\u001b[0m\u001b[0mnp\u001b[0m\u001b[0;34m.\u001b[0m\u001b[0mlinspace\u001b[0m\u001b[0;34m(\u001b[0m\u001b[0;36m0\u001b[0m\u001b[0;34m,\u001b[0m \u001b[0;36m0.5\u001b[0m\u001b[0;34m,\u001b[0m \u001b[0mepsilons\u001b[0m\u001b[0;34m)\u001b[0m\u001b[0;34m)\u001b[0m\u001b[0;34m:\u001b[0m\u001b[0;34m\u001b[0m\u001b[0;34m\u001b[0m\u001b[0m\n\u001b[0m\u001b[1;32m    149\u001b[0m         \u001b[0mprint\u001b[0m\u001b[0;34m(\u001b[0m\u001b[0;34m\"Epsilon = \"\u001b[0m\u001b[0;34m,\u001b[0m \u001b[0mepsilon\u001b[0m\u001b[0;34m)\u001b[0m\u001b[0;34m\u001b[0m\u001b[0;34m\u001b[0m\u001b[0m\n\u001b[1;32m    150\u001b[0m         \u001b[0mada_ts_eps_recommender\u001b[0m \u001b[0;34m=\u001b[0m \u001b[0mAdaptiveRecommender\u001b[0m\u001b[0;34m(\u001b[0m\u001b[0mn_actions\u001b[0m\u001b[0;34m,\u001b[0m \u001b[0mn_outcomes\u001b[0m\u001b[0;34m)\u001b[0m\u001b[0;34m\u001b[0m\u001b[0;34m\u001b[0m\u001b[0m\n",
      "\u001b[0;32m<__array_function__ internals>\u001b[0m in \u001b[0;36mappend\u001b[0;34m(*args, **kwargs)\u001b[0m\n",
      "\u001b[0;31mTypeError\u001b[0m: _append_dispatcher() missing 1 required positional argument: 'values'"
     ]
    }
   ],
   "source": [
    "#Test exploration\n",
    "np.random.seed(1)\n",
    "results = test_exploration(5000, epsilons = 25)"
   ]
  },
  {
   "cell_type": "code",
   "execution_count": null,
   "metadata": {},
   "outputs": [],
   "source": [
    "return_dict = fixed_treatments(n_tests=10000)"
   ]
  },
  {
   "cell_type": "code",
   "execution_count": null,
   "metadata": {},
   "outputs": [],
   "source": [
    "\n",
    "counter = 1\n",
    "for key, value in return_dict.items():\n",
    "    print(counter)\n",
    "    sum_val = sum(value[0])\n",
    "    mean_val  = sum(value[0])/len(value[0])\n",
    "    covars = value[1]\n",
    "    covars = covars.loc[covars[\"y\"]==1.0]\n",
    "    s = covars.sum()\n",
    "    covars = covars[s.sort_values(ascending=False).index]\n",
    "    covars.drop([\"sex\", \"smoker\", \"y\", \"symptom 1\", \"symptom 2\"], axis=1, inplace=True)\n",
    "    covars.head()\n",
    "    top5 = covars.iloc[:,:5]\n",
    "    bot5 = covars.iloc[:,-5:]\n",
    "    top5.head()\n",
    "    print(\"Action: \", key)\n",
    "    #print(\"Sum of utilities: \", sum_val )\n",
    "    if sum_val>500:\n",
    "        print(\"large utility: \", sum_val, key)\n",
    "    #print(\"Mean of utilities: \", mean_val )\n",
    "    #print(list(top5.index)+list(bot5.index))\n",
    "    fig = plt.gcf()\n",
    "    fig.set_size_inches(11,8)\n",
    "    plt.bar(list(top5.columns)+list(bot5.columns), list(top5.sum())+list(bot5.sum()))\n",
    "    plt.title(key)\n",
    "    plt.show()\n",
    "    counter +=1"
   ]
  },
  {
   "cell_type": "code",
   "execution_count": null,
   "metadata": {},
   "outputs": [],
   "source": [
    "sorted_sum = {k: sum(v[0]) for k, v in sorted(return_dict.items(), key=lambda item: item[1])}\n",
    "sorted_sum = {k: v for k, v in sorted(sorted_sum.items(), key=lambda item: item[1])}"
   ]
  },
  {
   "cell_type": "code",
   "execution_count": null,
   "metadata": {},
   "outputs": [],
   "source": [
    "for ind, (k,v) in enumerate(sorted_sum.items()):\n",
    "    if ind == 1 or ind ==50:\n",
    "        sum_val = sum(value[0])\n",
    "        mean_val  = sum(value[0])/len(value[0])\n",
    "        covars = value[1]\n",
    "        covars = covars.loc[covars[\"y\"]==1.0]\n",
    "        s = covars.sum()\n",
    "        covars = covars[s.sort_values(ascending=False).index]\n",
    "        covars.drop([\"sex\", \"smoker\", \"y\", \"symptom 1\", \"symptom 2\"], axis=1, inplace=True)\n",
    "        covars.head()\n",
    "        top5 = covars.iloc[:,:5]\n",
    "        bot5 = covars.iloc[:,-5:]\n",
    "        top5.head()\n",
    "        print(\"Action: \", key)\n",
    "        #print(\"Sum of utilities: \", sum_val )\n",
    "        if sum_val>500:\n",
    "            print(\"large utility: \", sum_val, key)\n",
    "        #print(\"Mean of utilities: \", mean_val )\n",
    "        #print(list(top5.index)+list(bot5.index))\n",
    "        fig = plt.gcf()\n",
    "        fig.set_size_inches(11,8)\n",
    "        plt.bar(list(top5.columns)+list(bot5.columns), list(top5.sum())+list(bot5.sum()))\n",
    "        plt.title(key)\n",
    "        plt.xlabel(\"Genes\")\n",
    "        plt.ylabel(\"Frequency\")\n",
    "        plt.show()\n",
    "        fig.savefig(\"./img/gene_frequency\"+key+\".png\")\n"
   ]
  },
  {
   "cell_type": "code",
   "execution_count": null,
   "metadata": {},
   "outputs": [],
   "source": [
    "scores = []\n",
    "models = []\n",
    "for ind, (k,v) in enumerate(sorted_sum.items()):\n",
    "    if ind<10:\n",
    "        model = \"Fixed policy \" + k[-1]\n",
    "        sum_val = sum(value[0])\n",
    "        mean_val  = sum(value[0])/len(value[0])\n",
    "        models += [model]\n",
    "        scores += [mean_val]\n",
    "fig = plt.gcf()\n",
    "fig.set_size_inches(11,8)\n",
    "plt.bar(models, scores)\n",
    "plt.title(\"Comparison of the scores of the best fixed policies\")\n",
    "plt.xlabel(\"Policy\")\n",
    "plt.ylabel(\"Score\")\n",
    "plt.show()\n",
    "fig.savefig(\"./img/fixed_scores\")"
   ]
  }
 ]
}