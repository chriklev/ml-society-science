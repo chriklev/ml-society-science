{
 "cells": [
  {
   "cell_type": "markdown",
   "metadata": {},
   "source": [
    "# Model development\n",
    "\n",
    "\n",
    "## Policy\n",
    "\n",
    "We assume that $A = \\{a_{0}, a_{1}\\}$, we further define $a_{0}$ as \"deny credit\" and $a_{1}$ as \"offer credit\". We also know from the project text that the utility function is assumed to be linear. This implies that among $E(utility|a_{i})$ and $E(utility|a_{j})$, we will always choose action $a_{i}$ over action $a_{j}$ if $E(utility|a_{i}) > E(utility|a_{j})$ adapted from (Dimitrakakis, 2020, p. 48). We will \"blindly\" choose the action that maximizes expected utility.\n",
    "\n",
    "## Utility function\n",
    "\n",
    "There are two possible actions that we could perform: $\\{a_{0}, a_{1}\\}$. We also have the following rewards, which are defined as possible outcomes for the bank (Dimitrakakis, 2020, p. 47). In our case these rewards are $\\{-m, 0, m((1 + r)^{n} - 1)\\}$. Further there are two possible actions for the bank when it comes to deciding for each new customer if they will be granted credit.\n",
    "\n",
    "Further, we will use the definition of expected utility\n",
    "$$\n",
    "E[U|a_{t} = a] = \\sum_{r} U(r)Pr(r|a_{t} = a)\n",
    "$$\n",
    "adapted from (Dimitrakakis, 2020, p. 48). This will be used for each action to calculate its expected utility. We can further define the rewards as $r_{0} =$ \"the debtor defaults\" and $r_{1} =$ \"the debtor does not default\". If we use the assumption that the utility function is linear, we can say that $U(r)$ is proportional to $r$.\n",
    "\n",
    "### Grant credit\n",
    "\n",
    "If we decide to grant credit ($a_{t} = 1 $) we have the following expected utility considering the rewards above:\n",
    "$$\n",
    "E[U|a_{t} = 1] = U(r = r_{0})Pr(r = r_{0}|a_{t} = 1) + U(r = r_{1})Pr(r = r_{1}|a_{t} = 1) \n",
    "$$\n",
    "which becomes\n",
    "$$\n",
    "E[U|a_{t} = 1] = -m \\cdot Pr(r = r_{0}|a_{t} = 1) + m((1 + r)^{n} - 1) \\cdot Pr(r = r_{1}|a_{t} = 1)\n",
    "$$\n",
    "In our code, we have defined $Pr(r = r_{1}|a_{t} = 1)$ as the variable \"p_c\" and $Pr(r = r_{0}|a_{t} = 1)$ as 1-\"p_c\".\n",
    "\n",
    "### Do not grant credit\n",
    "\n",
    "If we decide not to grant credit ($a_{t} = 0 $).\n",
    "\n",
    "$$\n",
    "E[U|a_{t} = 0] = 0 \\cdot Pr(r = r_{0}|a_{t} = 0) + 0 \\cdot Pr(r = r_{1}|a_{t} = 0) = 0\n",
    "$$\n",
    "\n",
    "\n",
    "\n",
    "## Expected utility\n",
    "\n",
    "If we do not give out the loan, the expected utility is $0$, as there is nothing to gain or loose. If we give a loan there are two possible outcomes; either they are able to pay it back with interest, or we loose the investment $m$. We can therefor write the expected utility if we give a loan as:\n",
    "$$E(U(x) | a = a_\\text{loan}) = m[(1+r)^n - 1] p(x_1) - m p(x_2),$$\n",
    "where $p(x_1)$ is the probability of paying back the loan with interest and $p(x_2)$ is the probability of loosing the interest."
   ]
  },
  {
   "cell_type": "code",
   "execution_count": 1,
   "metadata": {
    "tags": []
   },
   "outputs": [],
   "source": [
    "def expected_utility(self, x, action):\n",
    "    \"\"\"Calculate expected utility using the decision maker model.\n",
    "\n",
    "    Args:\n",
    "        x: A new observation.\n",
    "        action: Whether or not to grant the loan.\n",
    "    \n",
    "    Returns:\n",
    "        The expected utility of the decision maker.\n",
    "    \"\"\"\n",
    "    if action == 0:\n",
    "        return 0\n",
    "\n",
    "    r = self.rate\n",
    "    p_c = self.predict_proba(x)\n",
    "\n",
    "    # duration in months\n",
    "    n = x['duration']\n",
    "    # amount\n",
    "    m = x['amount']\n",
    "\n",
    "    e_x = p_c * m * ((1 + r) ** n - 1) + (1 - p_c) * (-m)\n",
    "    return e_x"
   ]
  },
  {
   "cell_type": "markdown",
   "metadata": {},
   "source": [
    "## Fitting a model\n",
    "\n",
    "We chose to use a logistic regression model. It predicts the probability of a binary categorical variable beeing 1. A fresh random state is also given to the model for reproducable results."
   ]
  },
  {
   "cell_type": "code",
   "execution_count": 2,
   "metadata": {},
   "outputs": [],
   "source": [
    "def fit(self, X, y):\n",
    "    \"\"\"Fits a logistic regression model.\n",
    "\n",
    "    Args:\n",
    "        X: The covariates of the data set.\n",
    "        y: The response variable from the data set.\n",
    "\n",
    "    Notes:\n",
    "        Using logistic regression, adapted from \n",
    "        https://scikit-learn.org/stable/modules/generated/sklearn.\n",
    "        linear_model.LogisticRegression.html\n",
    "    \"\"\"\n",
    "    self.data = [X, y]\n",
    "\n",
    "    log_reg_object = LogisticRegression(random_state=1, max_iter=2000)\n",
    "    self.model = log_reg_object.fit(X, y)\n",
    "\n",
    "def predict_proba(self, x):\n",
    "    \"\"\"Predicts the probability for [0,1] given a new observation given the \n",
    "    model.\n",
    "\n",
    "    Args:\n",
    "        x: A new, independent observation.\n",
    "    Returns:\n",
    "        The prediction for class 1 given as the second element in the\n",
    "        probability array returned from the model.\n",
    "    \"\"\"\n",
    "    x = self._reshape(x)\n",
    "    return self.model.predict_proba(x)[0][1]\n",
    "\n",
    "def _reshape(self, x):\n",
    "    \"\"\"Reshapes Pandas Seris to a row vector.\n",
    "\n",
    "    Args:\n",
    "        x: Pandas Series.\n",
    "\n",
    "    Returns:\n",
    "        A ndarray as a row vector.\n",
    "    \"\"\"\n",
    "    return x.values.reshape((1, len(x)))"
   ]
  },
  {
   "cell_type": "markdown",
   "metadata": {},
   "source": [
    "When reading the data we one hot encode all the catagorical variables which means that they loose the information in the order. This could be fixed by instead giving them an integer value, but then we assume a linear relationship between the order of the categories.\n",
    "\n",
    "## Best action\n",
    "\n",
    "The best action is the action that gives the highest utility. In the event of the utilities beeing equal, we chose to not give a loan. Because of the linear utility of the investor it does not matter what we do in this situation, but we figured it is better to not accept unnecessary variability."
   ]
  },
  {
   "cell_type": "code",
   "execution_count": 3,
   "metadata": {},
   "outputs": [],
   "source": [
    "def get_best_action(self, x):\n",
    "    \"\"\"Gets the best action defined as the action that maximizes utility.\n",
    "\n",
    "    Args:\n",
    "        x: A new observation.\n",
    "    Returns:\n",
    "        Best action based on maximizing utility.\n",
    "    \"\"\"\n",
    "    expected_utility_give_loan = self.expected_utility(x, 1)\n",
    "    expected_utility_no_loan = self.expected_utility(x, 0)\n",
    "\n",
    "    if expected_utility_give_loan > expected_utility_no_loan:\n",
    "        return 1\n",
    "    else:\n",
    "        return 0"
   ]
  },
  {
   "cell_type": "markdown",
   "metadata": {},
   "source": [
    "# Testing the model against random model"
   ]
  },
  {
   "cell_type": "code",
   "execution_count": 4,
   "metadata": {
    "tags": []
   },
   "outputs": [
    {
     "name": "stdout",
     "output_type": "stream",
     "text": [
      "<class 'pandas.core.frame.DataFrame'>\n",
      "RangeIndex: 1000 entries, 0 to 999\n",
      "Data columns (total 21 columns):\n",
      " #   Column                    Non-Null Count  Dtype \n",
      "---  ------                    --------------  ----- \n",
      " 0   checking account balance  1000 non-null   object\n",
      " 1   duration                  1000 non-null   int64 \n",
      " 2   credit history            1000 non-null   object\n",
      " 3   purpose                   1000 non-null   object\n",
      " 4   amount                    1000 non-null   int64 \n",
      " 5   savings                   1000 non-null   object\n",
      " 6   employment                1000 non-null   object\n",
      " 7   installment               1000 non-null   int64 \n",
      " 8   marital status            1000 non-null   object\n",
      " 9   other debtors             1000 non-null   object\n",
      " 10  residence time            1000 non-null   int64 \n",
      " 11  property                  1000 non-null   object\n",
      " 12  age                       1000 non-null   int64 \n",
      " 13  other installments        1000 non-null   object\n",
      " 14  housing                   1000 non-null   object\n",
      " 15  credits                   1000 non-null   int64 \n",
      " 16  job                       1000 non-null   object\n",
      " 17  persons                   1000 non-null   int64 \n",
      " 18  phone                     1000 non-null   object\n",
      " 19  foreign                   1000 non-null   object\n",
      " 20  repaid                    1000 non-null   int64 \n",
      "dtypes: int64(8), object(13)\n",
      "memory usage: 164.2+ KB\n"
     ]
    }
   ],
   "source": [
    "%matplotlib inline\n",
    "\n",
    "import random_banker\n",
    "import group1_banker\n",
    "from sklearn.model_selection import train_test_split\n",
    "import numpy as np\n",
    "import pandas as pd\n",
    "import matplotlib.pyplot as plt\n",
    "import seaborn as sns\n",
    "\n",
    "np.random.seed(24092020)\n",
    "\n",
    "features = ['checking account balance', 'duration', 'credit history',\n",
    "            'purpose', 'amount', 'savings', 'employment', 'installment',\n",
    "            'marital status', 'other debtors', 'residence time',\n",
    "            'property', 'age', 'other installments', 'housing', 'credits',\n",
    "            'job', 'persons', 'phone', 'foreign', 'repaid']\n",
    "\n",
    "data_raw = pd.read_csv(\"german.data\",\n",
    "                 delim_whitespace=True,\n",
    "                 names=features)\n",
    "data_raw.info()"
   ]
  },
  {
   "cell_type": "markdown",
   "metadata": {},
   "source": [
    "## Transforming the data"
   ]
  },
  {
   "cell_type": "code",
   "execution_count": 5,
   "metadata": {
    "tags": []
   },
   "outputs": [
    {
     "name": "stderr",
     "output_type": "stream",
     "text": [
      "<ipython-input-5-ad017a9a2f47>:6: SettingWithCopyWarning: \n",
      "A value is trying to be set on a copy of a slice from a DataFrame.\n",
      "Try using .loc[row_indexer,col_indexer] = value instead\n",
      "\n",
      "See the caveats in the documentation: https://pandas.pydata.org/pandas-docs/stable/user_guide/indexing.html#returning-a-view-versus-a-copy\n",
      "  data[\"repaid\"] = data_raw[\"repaid\"].map({1:1, 2:0})\n"
     ]
    }
   ],
   "source": [
    "numeric_variables = ['duration', 'age', 'residence time', 'installment',\n",
    "             'amount', 'persons', 'credits']\n",
    "data = data_raw[numeric_variables]\n",
    "\n",
    "# Mapping the response to 0 and 1\n",
    "data[\"repaid\"] = data_raw[\"repaid\"].map({1:1, 2:0})"
   ]
  },
  {
   "cell_type": "code",
   "execution_count": 6,
   "metadata": {
    "tags": []
   },
   "outputs": [],
   "source": [
    "# Create dummy variables for all the catagorical variables\n",
    "not_dummy_names = numeric_variables + [\"repaid\"]\n",
    "dummy_names = [x not in not_dummy_names for x in features]\n",
    "dummies = pd.get_dummies(data_raw.iloc[:,dummy_names], drop_first=True)\n",
    "data = data.join(dummies)"
   ]
  },
  {
   "cell_type": "markdown",
   "metadata": {},
   "source": [
    "## Testing decision makers"
   ]
  },
  {
   "cell_type": "code",
   "execution_count": 7,
   "metadata": {},
   "outputs": [],
   "source": [
    "def utility_from_obs(predicted_decision, true_decision, amount, duration, interest_rate):\n",
    "    \"\"\"Calculates utility from a single observation.\n",
    "\n",
    "    Args:\n",
    "        predicted_decision: the model's best action\n",
    "        true_decision: if the observation repaid or not\n",
    "        amount: the lending amount\n",
    "        duration: the number of periods\n",
    "        interest_rate: the interest rate of the loan\n",
    "\n",
    "    Returns:\n",
    "        The utility from the single observation given our action.\n",
    "    \"\"\"\n",
    "    if predicted_decision == 1:\n",
    "        if true_decision == 1:\n",
    "            return amount*((1 + interest_rate)**duration - 1)\n",
    "        else:\n",
    "            return -amount\n",
    "    else:\n",
    "        return 0"
   ]
  },
  {
   "cell_type": "code",
   "execution_count": 8,
   "metadata": {},
   "outputs": [],
   "source": [
    "def utility_from_test_set(X, y, decision_maker, interest_rate):\n",
    "    \"\"\"Calculates total utility from a given test set.\n",
    "\n",
    "    Args:\n",
    "        X: the covariates of the test set\n",
    "        y: the response variable of the test set\n",
    "        decision_maker: the decision maker to use in order to calculate utility\n",
    "        interest_rate: the interest rate to use when calculating utility\n",
    "\n",
    "    Returns:\n",
    "        The sum of utility from the test set and the sum of utility divided by\n",
    "        total amount.\n",
    "    \"\"\"\n",
    "\n",
    "    num_obs = len(X)\n",
    "    obs_utility = np.zeros(num_obs)\n",
    "    obs_amount = np.zeros_like(obs_utility)\n",
    "\n",
    "    for new_obs in range(num_obs):\n",
    "        predicted_decision = decision_maker.get_best_action(X.iloc[new_obs])\n",
    "        true_decision = y.iloc[new_obs]\n",
    "\n",
    "        amount = X['amount'].iloc[new_obs]\n",
    "        duration = X['duration'].iloc[new_obs]\n",
    "\n",
    "        obs_utility[new_obs] = utility_from_obs(\n",
    "            predicted_decision, true_decision, amount, duration, interest_rate)\n",
    "        obs_amount[new_obs] = amount\n",
    "\n",
    "    return np.sum(obs_utility), np.sum(obs_utility)/np.sum(obs_amount)"
   ]
  },
  {
   "cell_type": "code",
   "execution_count": 9,
   "metadata": {},
   "outputs": [],
   "source": [
    "def compare_decision_makers(num_of_tests, response, interest_rate):\n",
    "    \"\"\"Tests the random banker against our group1 banker.\n",
    "\n",
    "    Args:\n",
    "        num_of_tests: the number of tests to run\n",
    "        response: the name of the response variable\n",
    "        interest_rate: the interest rate to use when calculating utility\n",
    "    \"\"\"\n",
    "    bank_utility_random = np.zeros(num_of_tests)\n",
    "    bank_investment_random = np.zeros_like(bank_utility_random)\n",
    "    bank_utility_group1 = np.zeros(num_of_tests)\n",
    "    bank_investment_group1 = np.zeros_like(bank_utility_group1)\n",
    "\n",
    "    results = {}\n",
    "\n",
    "    # decision makers\n",
    "    r_banker = random_banker.RandomBanker()\n",
    "    r_banker.set_interest_rate(interest_rate)\n",
    "    n_banker = group1_banker.Group1Banker()\n",
    "    n_banker.set_interest_rate(interest_rate)\n",
    "\n",
    "    # get data\n",
    "    X = data\n",
    "    covariates = X.columns[X.columns != response]\n",
    "\n",
    "    for i in range(num_of_tests):\n",
    "        X_train, X_test, y_train, y_test = train_test_split(\n",
    "            X[covariates], X[response], test_size=0.2)\n",
    "\n",
    "        # fit models\n",
    "        r_banker.fit(X_train, y_train)\n",
    "        n_banker.fit(X_train, y_train)\n",
    "\n",
    "        bank_utility_random[i], bank_investment_random[i] = utility_from_test_set(\n",
    "            X_test, y_test, r_banker, interest_rate)\n",
    "        bank_utility_group1[i], bank_investment_group1[i] = utility_from_test_set(\n",
    "            X_test, y_test, n_banker, interest_rate)\n",
    "\n",
    "    results[\"utility_random_banker\"] = bank_utility_random\n",
    "    results[\"investment_random_banker\"] = bank_investment_random\n",
    "    results[\"utility_group1_banker\"] = bank_utility_group1\n",
    "    results[\"investment_group1_banker\"] = bank_investment_group1\n",
    "\n",
    "    return results\n",
    "    \n"
   ]
  },
  {
   "cell_type": "code",
   "execution_count": 10,
   "metadata": {
    "tags": []
   },
   "outputs": [
    {
     "name": "stdout",
     "output_type": "stream",
     "text": [
      "CPU times: user 42.8 s, sys: 322 ms, total: 43.2 s\n",
      "Wall time: 22.7 s\n"
     ]
    }
   ],
   "source": [
    "%%time\n",
    "response = 'repaid'\n",
    "results = pd.DataFrame(compare_decision_makers(100, response, 0.05))"
   ]
  },
  {
   "cell_type": "code",
   "execution_count": 11,
   "metadata": {},
   "outputs": [
    {
     "data": {
      "text/html": [
       "<div>\n",
       "<style scoped>\n",
       "    .dataframe tbody tr th:only-of-type {\n",
       "        vertical-align: middle;\n",
       "    }\n",
       "\n",
       "    .dataframe tbody tr th {\n",
       "        vertical-align: top;\n",
       "    }\n",
       "\n",
       "    .dataframe thead th {\n",
       "        text-align: right;\n",
       "    }\n",
       "</style>\n",
       "<table border=\"1\" class=\"dataframe\">\n",
       "  <thead>\n",
       "    <tr style=\"text-align: right;\">\n",
       "      <th></th>\n",
       "      <th>utility_random_banker</th>\n",
       "      <th>investment_random_banker</th>\n",
       "      <th>utility_group1_banker</th>\n",
       "      <th>investment_group1_banker</th>\n",
       "    </tr>\n",
       "  </thead>\n",
       "  <tbody>\n",
       "    <tr>\n",
       "      <th>count</th>\n",
       "      <td>1.000000e+02</td>\n",
       "      <td>100.000000</td>\n",
       "      <td>1.000000e+02</td>\n",
       "      <td>100.000000</td>\n",
       "    </tr>\n",
       "    <tr>\n",
       "      <th>mean</th>\n",
       "      <td>5.922753e+05</td>\n",
       "      <td>0.913618</td>\n",
       "      <td>1.180550e+06</td>\n",
       "      <td>1.825611</td>\n",
       "    </tr>\n",
       "    <tr>\n",
       "      <th>std</th>\n",
       "      <td>1.995408e+05</td>\n",
       "      <td>0.296520</td>\n",
       "      <td>2.872515e+05</td>\n",
       "      <td>0.423820</td>\n",
       "    </tr>\n",
       "    <tr>\n",
       "      <th>min</th>\n",
       "      <td>1.715205e+05</td>\n",
       "      <td>0.270745</td>\n",
       "      <td>6.235157e+05</td>\n",
       "      <td>0.971803</td>\n",
       "    </tr>\n",
       "    <tr>\n",
       "      <th>25%</th>\n",
       "      <td>4.595768e+05</td>\n",
       "      <td>0.692373</td>\n",
       "      <td>9.772184e+05</td>\n",
       "      <td>1.476474</td>\n",
       "    </tr>\n",
       "    <tr>\n",
       "      <th>50%</th>\n",
       "      <td>5.880903e+05</td>\n",
       "      <td>0.913637</td>\n",
       "      <td>1.181998e+06</td>\n",
       "      <td>1.817679</td>\n",
       "    </tr>\n",
       "    <tr>\n",
       "      <th>75%</th>\n",
       "      <td>7.179540e+05</td>\n",
       "      <td>1.119127</td>\n",
       "      <td>1.364043e+06</td>\n",
       "      <td>2.091771</td>\n",
       "    </tr>\n",
       "    <tr>\n",
       "      <th>max</th>\n",
       "      <td>1.191101e+06</td>\n",
       "      <td>1.889368</td>\n",
       "      <td>2.137712e+06</td>\n",
       "      <td>3.053918</td>\n",
       "    </tr>\n",
       "  </tbody>\n",
       "</table>\n",
       "</div>"
      ],
      "text/plain": [
       "       utility_random_banker  investment_random_banker  utility_group1_banker  \\\n",
       "count           1.000000e+02                100.000000           1.000000e+02   \n",
       "mean            5.922753e+05                  0.913618           1.180550e+06   \n",
       "std             1.995408e+05                  0.296520           2.872515e+05   \n",
       "min             1.715205e+05                  0.270745           6.235157e+05   \n",
       "25%             4.595768e+05                  0.692373           9.772184e+05   \n",
       "50%             5.880903e+05                  0.913637           1.181998e+06   \n",
       "75%             7.179540e+05                  1.119127           1.364043e+06   \n",
       "max             1.191101e+06                  1.889368           2.137712e+06   \n",
       "\n",
       "       investment_group1_banker  \n",
       "count                100.000000  \n",
       "mean                   1.825611  \n",
       "std                    0.423820  \n",
       "min                    0.971803  \n",
       "25%                    1.476474  \n",
       "50%                    1.817679  \n",
       "75%                    2.091771  \n",
       "max                    3.053918  "
      ]
     },
     "execution_count": 11,
     "metadata": {},
     "output_type": "execute_result"
    }
   ],
   "source": [
    "results.describe()"
   ]
  },
  {
   "cell_type": "code",
   "execution_count": 12,
   "metadata": {},
   "outputs": [
    {
     "data": {
      "text/plain": [
       "Text(0, 0.5, 'Density')"
      ]
     },
     "execution_count": 12,
     "metadata": {},
     "output_type": "execute_result"
    },
    {
     "data": {
      "image/png": "[encoded data removed]",
      "text/plain": [
       "<Figure size 432x288 with 1 Axes>"
      ]
     },
     "metadata": {
      "needs_background": "light"
     },
     "output_type": "display_data"
    }
   ],
   "source": [
    "sns.distplot(results[\"utility_random_banker\"], label=\"Random banker\")\n",
    "sns.distplot(results[\"utility_group1_banker\"], label=\"Group1 banker\")\n",
    "plt.legend()\n",
    "plt.xlabel(\"Average utility over different random train/test draws\")\n",
    "plt.ylabel(\"Density\")"
   ]
  },
  {
   "cell_type": "markdown",
   "metadata": {},
   "source": [
    "## Results\n",
    "\n",
    "Based on 100 random train/test splits, our model using logistic regression is considerably better than the random model."
   ]
  },
  {
   "cell_type": "markdown",
   "metadata": {},
   "source": [
    "# Questions\n",
    "\n",
    "### Is it possible to ensure that the policy maximises revenue?\n",
    "\n",
    "We cannot ensure with 100 % certainty that the policy maximises revenue. This is due to the fact that the model is not perfect and we are maximising the expected utility. There is an uncertainty in the estimated probability of a new individual being credit-worthy. If there were no uncertainty in this and we knew in advance which of the new individuals were going to pay back, we could ensure that a policy would maximise revenue by only lending to the credit-worthy individuals.\n",
    "\n",
    "### How can we take into account the uncertainty due to limited/biased data?\n",
    "\n",
    "In an ideal world we would have an independent replication of our study and check whether or not new, independent data would develop the same type of policy that we obtained with the current data set. Another option is simulation of data in order to validate our policy based on constructed data (Dimitrakakis, 2020, pp. 35-36). When it comes to the current policy, there are several ways of taking this uncertainty into account when considering our objective of maximising expected utility.\n",
    "\n",
    "### What are the consequences if the model is wrong?\n",
    "\n",
    "There will always be a possibility that the model performs a lot worse in practice. For example our data set could be a bad representation of the population because of some change in the population properties after it was collected. Therefor it is important not to put too much trust into new models. Simple interpretable models have a clear advantage in this regard. If the model is simpel enough you might spot errors before the model is tested in practice, and if you find a model to be wrong, it will be easier to understand why.\n",
    "\n",
    "For the bank, one of the major consequences of the model being wrong is the loss of profit. If the model is granting credit too easily, the bank could incur losses due to the fact that they are granting credit and then loosing the entire investement $m$. If the model is too strict about granting credit, the bank is missing potential profit from the individuals that were declined credit, this would be $-m((1+r)^n - 1)$. The missed potential income could also cause the individuals that were wrongfully declined credit to apply for credit elsewhere. In that case, a hard-to-intepret model would also increase the difficulty in troubleshooting the reasons for the wrongfully decline of credit.\n",
    "\n",
    "* better to give credit correclty to most customers while letting some edge cases be rejected?\n",
    "\n",
    "### How can we take into account the risk of the model being wrong?\n",
    "\n",
    "It is possible to consider the two types of error the model can generate: \n",
    "\n",
    "1. classify new individuals as credit-worthy when they are in fact not ($a_{10}$)\n",
    "2. classify new individuals as not being credit-worthy when they in fact are ($a_{01}$)\n",
    "\n",
    "We can indicate the class of actual credit-worthy individuals as 'positive' ($a_{1}$) and the class of individuals not being credit-worthy as 'negatives' ($a_{0}$). Then our error (1) can be called a false positive and the other type of error (2) as a false negative. This corresponds to type 1 and type 2 erros, where the probability of type 1 errors is equivalent to the probability of false positive and type 2 error is equivalent to the probability of false negative. These probabilities can be estimated by looking at the fraction $\\frac{a_{10}}{\\# a_{1}}$. Similarily for the false negatives $\\frac{a_{01}}{\\# a_{0}}$ (Azzalini & Scarpa, 2012, p. 139). For our example, if a new individual is classified as credit-worthy and this is a false positive, it implies the loss $-m$ (the lost investment). While if a new individual is classified as not being credit-worthy and this is a false negative, it implies the loss of $-m[(1+r)^{n} - 1]$ (the lost return on investment).\n",
    "\n",
    "In the extremes, the bank could deny all applications for credit, then the percentage of false positives would be 0. On the other side, the bank could accept all applications and the percentage of false negatives would be 0. Ideally, the bank would want to control the percentage of false positives in order to control how conservative the credit policy should be. This is however difficult, because when we accept or decline the application for credit, we would not know if the applicant were to default.\n",
    "\n",
    "<table>\n",
    "<thead>\n",
    "  <tr>\n",
    "    <th></th>\n",
    "    <th></th>\n",
    "    <th colspan=\"2\">True</th>\n",
    "  </tr>\n",
    "</thead>\n",
    "<tbody>\n",
    "  <tr>\n",
    "    <td></td>\n",
    "    <td></td>\n",
    "    <td>No default</td>\n",
    "    <td>Default</td>\n",
    "  </tr>\n",
    "  <tr>\n",
    "    <td rowspan=\"2\">Predicted</td>\n",
    "    <td>No default</td>\n",
    "    <td>0</td>\n",
    "    <td>$-m$</td>\n",
    "  </tr>\n",
    "  <tr>\n",
    "    <td>Default</td>\n",
    "    <td>$-m((1+r)^n - 1)$</td>\n",
    "    <td>0</td>\n",
    "  </tr>\n",
    "</tbody>\n",
    "</table>\n",
    "\n",
    "We could take into account the risk of the model being wrong by trying to control the type 1 (false positive), we want to minimize false positives because this causes us to lose -m. We could enfore a higher threshold than 0 for the expected utility and then we could check this by demanding that the probability for type 1 errors (false positive) should be within an accepted range, e.g. maximum 5 %. We could attempt to find this threshold for type 1 erros by looking at the training data and check the probability for type 1 errors on a holdout set of the training data.\n",
    "\n",
    "Currently, we are attempting to control this by increasing the threshold for which to grant credit. When increasing the threshold for the expected utility in order to provide credit, the model becomes more conservative. This would be equivalent to saying that we need to be for example $\\ge$ 75 % sure that the loan is going to be repaid rather than just $\\ge$ 50 % sure that the loan is going to be repaid.\n",
    "\n",
    "We would want to have the percentage of false positives to be below a limit, e.g. $max\\_alpha = Pr(\\text{false positive}) = 0.05$ An outline of the algorithm:\n",
    "\n",
    "1. initialize $\\epsilon = 0$, $alpha\\_value = 1$ and $\\Delta \\epsilon = 1000$\n",
    "2. while $alpha\\_value \\ge max\\_alpha$:\n",
    "    * false_positives = 0\n",
    "    * predicted_actions = get_actions(validation_data, $\\epsilon$)\n",
    "    * false_positives += get_number_of_false_positives(predicted_actions, validation_data)\n",
    "    * $alpha\\_value$ = false_positives/len(validation_data)\n",
    "    * $\\epsilon = \\epsilon + \\Delta \\epsilon$\n",
    "3. alter policy so that $E(U(\\cdot)) > \\epsilon$ in order to grant credit to an individual       \n",
    "\n",
    "### Does the existence of the database raise any privacy concerns?\n",
    "\n",
    "The database is anonymized because there are no directly identifying attributes about the individuals (Dimitrakakis, 2020, p. 74). However, there is very specific information about the individuals in the database, such as age, personal status, sex and information about the employement situation of the individuals. There is also information about the housing and property situation of the different individuals.\n",
    "\n",
    "There seems to be a high probability of inferring personal information about the individuals in the database by using for example record linkage. \n",
    "\n",
    "### How would secret database and public credit decisions affect privacy?\n",
    "\n",
    "It would obviously be better to have the database secret instead of the database also being public. It could however be possible to infer a lot of information from the secret database by knowing the public credit decision. \n",
    "\n",
    "Because the bank is publishing the actual credit decisions, differential privacy is not possible. If, for example, an adversary with information about all but one attribute for a specific row, the adversary could infer the information of the missing attribute.\n",
    "\n",
    "### How can we protect the data of the people in the training set?\n",
    "\n",
    "We could use differential privacy to obscure the information in the public credit decisions that have been made by the bank.\n",
    "\n",
    "* if the database is secret, but the credit decisions are public (we assume that the identities of the individuals also are public): we would have a randomised response mechanism for the credit decision. This randomised response mechanism will ensure that the public responses are correct with a probability $\\leq 1$ (Dimitrakakis, 2020, p. 77). This would make it harder to infer information about the individuals from the public information. Even if the database is not public, there is a risk of dishonest employees and/or digital attacks on the bank.\n",
    "\n",
    "* if the database is public and the credit decisions are public: for categorical attributes, we could use a randomised response mechanism. For the numerical attributes, we can apply a Laplace mechanism in order to make the information differential private. In this scenario as weell, the bank is still vulnerable to dishonest employees and digital attacks as the original (true) data is still available inside the bank.\n",
    "\n",
    "### How can we protect the data of the people that apply for loans?\n",
    "\n",
    "We assume that the data for a new individual could potentially be leaked and considered non-secret. In that case we could apply the same techniques as for people in the training set. We would then apply a random mechanism to the input data for the new applicant.\n",
    "\n",
    "### Implement a private decision making mechanism for people that apply for new loans\n",
    "\n",
    "\n",
    "\n",
    "### Estimate the amount of loss in utility as we change the privacy guarantee\n",
    "\n",
    "\n"
   ]
  },
  {
   "cell_type": "markdown",
   "metadata": {},
   "source": [
    "# References\n",
    "\n",
    "Azzalini, A. & Scarpa, B. (2012). Data analysis and data mining: An introduction. Oxford: Oxford University Press.\n",
    "\n",
    "Dimitrakakis, C. (2020). *Machine learning in science and society*. Unpublished. Department of Informatics, University of Oslo."
   ]
  },
  {
   "cell_type": "code",
   "execution_count": null,
   "metadata": {},
   "outputs": [],
   "source": []
  }
 ],
 "metadata": {
  "kernelspec": {
   "display_name": "Python 3",
   "language": "python",
   "name": "python3"
  },
  "language_info": {
   "codemirror_mode": {
    "name": "ipython",
    "version": 3
   },
   "file_extension": ".py",
   "mimetype": "text/x-python",
   "name": "python",
   "nbconvert_exporter": "python",
   "pygments_lexer": "ipython3",
   "version": "3.8.3"
  }
 },
 "nbformat": 4,
 "nbformat_minor": 2
}
