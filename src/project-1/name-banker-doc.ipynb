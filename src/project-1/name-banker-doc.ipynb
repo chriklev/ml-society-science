{
 "metadata": {
  "language_info": {
   "codemirror_mode": {
    "name": "ipython",
    "version": 3
   },
   "file_extension": ".py",
   "mimetype": "text/x-python",
   "name": "python",
   "nbconvert_exporter": "python",
   "pygments_lexer": "ipython3",
   "version": "3.8.5-final"
  },
  "orig_nbformat": 2,
  "kernelspec": {
   "name": "python_defaultSpec_1600343900920",
   "display_name": "Python 3.8.5 64-bit"
  }
 },
 "nbformat": 4,
 "nbformat_minor": 2,
 "cells": [
  {
   "cell_type": "code",
   "execution_count": 1,
   "metadata": {
    "tags": []
   },
   "outputs": [
    {
     "output_type": "stream",
     "name": "stdout",
     "text": "<class 'pandas.core.frame.DataFrame'>\nRangeIndex: 1000 entries, 0 to 999\nData columns (total 21 columns):\n #   Column                    Non-Null Count  Dtype \n---  ------                    --------------  ----- \n 0   checking account balance  1000 non-null   object\n 1   duration                  1000 non-null   int64 \n 2   credit history            1000 non-null   object\n 3   purpose                   1000 non-null   object\n 4   amount                    1000 non-null   int64 \n 5   savings                   1000 non-null   object\n 6   employment                1000 non-null   object\n 7   installment               1000 non-null   int64 \n 8   marital status            1000 non-null   object\n 9   other debtors             1000 non-null   object\n 10  residence time            1000 non-null   int64 \n 11  property                  1000 non-null   object\n 12  age                       1000 non-null   int64 \n 13  other installments        1000 non-null   object\n 14  housing                   1000 non-null   object\n 15  credits                   1000 non-null   int64 \n 16  job                       1000 non-null   object\n 17  persons                   1000 non-null   int64 \n 18  phone                     1000 non-null   object\n 19  foreign                   1000 non-null   object\n 20  repaid                    1000 non-null   int64 \ndtypes: int64(8), object(13)\nmemory usage: 164.2+ KB\n"
    }
   ],
   "source": [
    "import pandas as pd\n",
    "\n",
    "features = ['checking account balance', 'duration', 'credit history',\n",
    "            'purpose', 'amount', 'savings', 'employment', 'installment',\n",
    "            'marital status', 'other debtors', 'residence time',\n",
    "            'property', 'age', 'other installments', 'housing', 'credits',\n",
    "            'job', 'persons', 'phone', 'foreign', 'repaid']\n",
    "\n",
    "data_raw = pd.read_csv(\"../../data/credit/german.data\",\n",
    "                 delim_whitespace=True,\n",
    "                 names=features)\n",
    "data_raw.info()"
   ]
  },
  {
   "source": [
    "## Transforming the data set to a usable state"
   ],
   "cell_type": "markdown",
   "metadata": {}
  },
  {
   "cell_type": "code",
   "execution_count": 2,
   "metadata": {
    "tags": []
   },
   "outputs": [],
   "source": [
    "numeric_variables = ['duration', 'age', 'residence time', 'installment',\n",
    "             'amount', 'persons', 'credits']\n",
    "data = data_raw[numeric_variables]\n",
    "\n",
    "# Mapping the response to 0 and 1\n",
    "data[\"repaid\"] = data_raw[\"repaid\"].map({1:1, 2:0})"
   ]
  },
  {
   "cell_type": "code",
   "execution_count": 3,
   "metadata": {
    "tags": []
   },
   "outputs": [
    {
     "output_type": "stream",
     "name": "stdout",
     "text": "<class 'pandas.core.frame.DataFrame'>\nRangeIndex: 1000 entries, 0 to 999\nData columns (total 49 columns):\n #   Column                        Non-Null Count  Dtype\n---  ------                        --------------  -----\n 0   duration                      1000 non-null   int64\n 1   age                           1000 non-null   int64\n 2   residence time                1000 non-null   int64\n 3   installment                   1000 non-null   int64\n 4   amount                        1000 non-null   int64\n 5   persons                       1000 non-null   int64\n 6   credits                       1000 non-null   int64\n 7   repaid                        1000 non-null   int64\n 8   checking account balance_A12  1000 non-null   uint8\n 9   checking account balance_A13  1000 non-null   uint8\n 10  checking account balance_A14  1000 non-null   uint8\n 11  credit history_A31            1000 non-null   uint8\n 12  credit history_A32            1000 non-null   uint8\n 13  credit history_A33            1000 non-null   uint8\n 14  credit history_A34            1000 non-null   uint8\n 15  purpose_A41                   1000 non-null   uint8\n 16  purpose_A410                  1000 non-null   uint8\n 17  purpose_A42                   1000 non-null   uint8\n 18  purpose_A43                   1000 non-null   uint8\n 19  purpose_A44                   1000 non-null   uint8\n 20  purpose_A45                   1000 non-null   uint8\n 21  purpose_A46                   1000 non-null   uint8\n 22  purpose_A48                   1000 non-null   uint8\n 23  purpose_A49                   1000 non-null   uint8\n 24  savings_A62                   1000 non-null   uint8\n 25  savings_A63                   1000 non-null   uint8\n 26  savings_A64                   1000 non-null   uint8\n 27  savings_A65                   1000 non-null   uint8\n 28  employment_A72                1000 non-null   uint8\n 29  employment_A73                1000 non-null   uint8\n 30  employment_A74                1000 non-null   uint8\n 31  employment_A75                1000 non-null   uint8\n 32  marital status_A92            1000 non-null   uint8\n 33  marital status_A93            1000 non-null   uint8\n 34  marital status_A94            1000 non-null   uint8\n 35  other debtors_A102            1000 non-null   uint8\n 36  other debtors_A103            1000 non-null   uint8\n 37  property_A122                 1000 non-null   uint8\n 38  property_A123                 1000 non-null   uint8\n 39  property_A124                 1000 non-null   uint8\n 40  other installments_A142       1000 non-null   uint8\n 41  other installments_A143       1000 non-null   uint8\n 42  housing_A152                  1000 non-null   uint8\n 43  housing_A153                  1000 non-null   uint8\n 44  job_A172                      1000 non-null   uint8\n 45  job_A173                      1000 non-null   uint8\n 46  job_A174                      1000 non-null   uint8\n 47  phone_A192                    1000 non-null   uint8\n 48  foreign_A202                  1000 non-null   uint8\ndtypes: int64(8), uint8(41)\nmemory usage: 102.7 KB\n"
    }
   ],
   "source": [
    "# Create dummy variables for all the catagorical variables\n",
    "not_dummy_names = numeric_variables + [\"repaid\"]\n",
    "dummy_names = [x not in not_dummy_names for x in features]\n",
    "dummies = pd.get_dummies(data_raw.iloc[:,dummy_names], drop_first=True)\n",
    "data = data.join(dummies)\n",
    "data.info()"
   ]
  }
 ]
}