{
 "metadata": {
  "language_info": {
   "codemirror_mode": {
    "name": "ipython",
    "version": 3
   },
   "file_extension": ".py",
   "mimetype": "text/x-python",
   "name": "python",
   "nbconvert_exporter": "python",
   "pygments_lexer": "ipython3",
   "version": "3.8.5-final"
  },
  "orig_nbformat": 2,
  "kernelspec": {
   "name": "python_defaultSpec_1600930112740",
   "display_name": "Python 3.8.5 64-bit"
  }
 },
 "nbformat": 4,
 "nbformat_minor": 2,
 "cells": [
  {
   "source": [
    "# Model development\n",
    "\n",
    "## Expected utility\n",
    "\n",
    "If we do not give out the loan, the expected utility is $0$, as there is nothing to gain or loose. If we give a loan there are two possible outcomes; either they are able to pay it back with interest, or we loose the investment $m$. We can therefor write the expected utility if we give a loan as:\n",
    "$$E(U(x) | a = a_\\text{loan}) = m[(1+r)^n - 1] p(x_1) - m p(x_2),$$\n",
    "where $p(x_1)$ is the probability of paying back the loan with interest and $p(x_2)$ is the probability of loosing the interest."
   ],
   "cell_type": "markdown",
   "metadata": {}
  },
  {
   "cell_type": "code",
   "execution_count": 1,
   "metadata": {
    "tags": []
   },
   "outputs": [],
   "source": [
    "def expected_utility(self, x, action):\n",
    "    \"\"\"Calculate expected utility using the decision maker model.\n",
    "\n",
    "    Args:\n",
    "        x: A new observation.\n",
    "        action: Whether or not to grant the loan.\n",
    "    \n",
    "    Returns:\n",
    "        The expected utility of the decision maker.\n",
    "    \"\"\"\n",
    "    if action == 0:\n",
    "        return 0\n",
    "\n",
    "    r = self.rate\n",
    "    p_c = self.predict_proba(x)\n",
    "\n",
    "    # duration in months\n",
    "    n = x['duration']\n",
    "    # amount\n",
    "    m = x['amount']\n",
    "\n",
    "    e_x = p_c * m * ((1 + r) ** n - 1) + (1 - p_c) * (-m)\n",
    "    return e_x"
   ]
  },
  {
   "source": [
    "## Fitting a model\n",
    "\n",
    "We chose to use a logistic regression model. It predicts the probability of a binary categorical variable beeing 1. A fresh random state is also given to the model for reproducable results."
   ],
   "cell_type": "markdown",
   "metadata": {}
  },
  {
   "cell_type": "code",
   "execution_count": 2,
   "metadata": {},
   "outputs": [],
   "source": [
    "def fit(self, X, y):\n",
    "    \"\"\"Fits a logistic regression model.\n",
    "\n",
    "    Args:\n",
    "        X: The covariates of the data set.\n",
    "        y: The response variable from the data set.\n",
    "\n",
    "    Notes:\n",
    "        Using logistic regression, adapted from \n",
    "        https://scikit-learn.org/stable/modules/generated/sklearn.\n",
    "        linear_model.LogisticRegression.html\n",
    "    \"\"\"\n",
    "    self.data = [X, y]\n",
    "\n",
    "    log_reg_object = LogisticRegression(random_state=1, max_iter=2000)\n",
    "    self.model = log_reg_object.fit(X, y)\n",
    "\n",
    "def predict_proba(self, x):\n",
    "    \"\"\"Predicts the probability for [0,1] given a new observation given the \n",
    "    model.\n",
    "\n",
    "    Args:\n",
    "        x: A new, independent observation.\n",
    "    Returns:\n",
    "        The prediction for class 1 given as the second element in the\n",
    "        probability array returned from the model.\n",
    "    \"\"\"\n",
    "    x = self._reshape(x)\n",
    "    return self.model.predict_proba(x)[0][1]\n",
    "\n",
    "def _reshape(self, x):\n",
    "    \"\"\"Reshapes Pandas Seris to a row vector.\n",
    "\n",
    "    Args:\n",
    "        x: Pandas Series.\n",
    "\n",
    "    Returns:\n",
    "        A ndarray as a row vector.\n",
    "    \"\"\"\n",
    "    return x.values.reshape((1, len(x)))"
   ]
  },
  {
   "source": [
    "When reading the data we one hot encode all the catagorical variables which means that they loose the information in the order. This could be fixed by instead giving them an integer value, but then we assume a linear relationship between the order of the categories.\n",
    "\n",
    "## Best action\n",
    "\n",
    "The best action is the action that gives the highest utility. In the event of the utilities beeing equal, we chose to not give a loan. Because of the linear utility of the investor it does not matter what we do in this situation, but we figured it is better to not accept unnecessary variability."
   ],
   "cell_type": "markdown",
   "metadata": {}
  },
  {
   "cell_type": "code",
   "execution_count": 3,
   "metadata": {},
   "outputs": [],
   "source": [
    "def get_best_action(self, x):\n",
    "    \"\"\"Gets the best action defined as the action that maximizes utility.\n",
    "\n",
    "    Args:\n",
    "        x: A new observation.\n",
    "    Returns:\n",
    "        Best action based on maximizing utility.\n",
    "    \"\"\"\n",
    "    expected_utility_give_loan = self.expected_utility(x, 1)\n",
    "    expected_utility_no_loan = self.expected_utility(x, 0)\n",
    "\n",
    "    if expected_utility_give_loan > expected_utility_no_loan:\n",
    "        return 1\n",
    "    else:\n",
    "        return 0"
   ]
  },
  {
   "source": [
    "# Testing the model against random model"
   ],
   "cell_type": "markdown",
   "metadata": {}
  },
  {
   "cell_type": "code",
   "execution_count": 4,
   "metadata": {
    "tags": []
   },
   "outputs": [
    {
     "output_type": "stream",
     "name": "stdout",
     "text": "<class 'pandas.core.frame.DataFrame'>\nRangeIndex: 1000 entries, 0 to 999\nData columns (total 21 columns):\n #   Column                    Non-Null Count  Dtype \n---  ------                    --------------  ----- \n 0   checking account balance  1000 non-null   object\n 1   duration                  1000 non-null   int64 \n 2   credit history            1000 non-null   object\n 3   purpose                   1000 non-null   object\n 4   amount                    1000 non-null   int64 \n 5   savings                   1000 non-null   object\n 6   employment                1000 non-null   object\n 7   installment               1000 non-null   int64 \n 8   marital status            1000 non-null   object\n 9   other debtors             1000 non-null   object\n 10  residence time            1000 non-null   int64 \n 11  property                  1000 non-null   object\n 12  age                       1000 non-null   int64 \n 13  other installments        1000 non-null   object\n 14  housing                   1000 non-null   object\n 15  credits                   1000 non-null   int64 \n 16  job                       1000 non-null   object\n 17  persons                   1000 non-null   int64 \n 18  phone                     1000 non-null   object\n 19  foreign                   1000 non-null   object\n 20  repaid                    1000 non-null   int64 \ndtypes: int64(8), object(13)\nmemory usage: 164.2+ KB\n"
    }
   ],
   "source": [
    "import random_banker\n",
    "import name_banker\n",
    "from sklearn.model_selection import train_test_split\n",
    "import numpy as np\n",
    "import pandas as pd\n",
    "\n",
    "np.random.seed(24092020)\n",
    "\n",
    "features = ['checking account balance', 'duration', 'credit history',\n",
    "            'purpose', 'amount', 'savings', 'employment', 'installment',\n",
    "            'marital status', 'other debtors', 'residence time',\n",
    "            'property', 'age', 'other installments', 'housing', 'credits',\n",
    "            'job', 'persons', 'phone', 'foreign', 'repaid']\n",
    "\n",
    "data_raw = pd.read_csv(\"german.data\",\n",
    "                 delim_whitespace=True,\n",
    "                 names=features)\n",
    "data_raw.info()"
   ]
  },
  {
   "source": [
    "## Transforming the data"
   ],
   "cell_type": "markdown",
   "metadata": {}
  },
  {
   "cell_type": "code",
   "execution_count": 5,
   "metadata": {
    "tags": []
   },
   "outputs": [],
   "source": [
    "numeric_variables = ['duration', 'age', 'residence time', 'installment',\n",
    "             'amount', 'persons', 'credits']\n",
    "data = data_raw[numeric_variables]\n",
    "\n",
    "# Mapping the response to 0 and 1\n",
    "data[\"repaid\"] = data_raw[\"repaid\"].map({1:1, 2:0})"
   ]
  },
  {
   "cell_type": "code",
   "execution_count": 6,
   "metadata": {
    "tags": []
   },
   "outputs": [],
   "source": [
    "# Create dummy variables for all the catagorical variables\n",
    "not_dummy_names = numeric_variables + [\"repaid\"]\n",
    "dummy_names = [x not in not_dummy_names for x in features]\n",
    "dummies = pd.get_dummies(data_raw.iloc[:,dummy_names], drop_first=True)\n",
    "data = data.join(dummies)"
   ]
  },
  {
   "source": [
    "## Testing decision makers"
   ],
   "cell_type": "markdown",
   "metadata": {}
  },
  {
   "cell_type": "code",
   "execution_count": 7,
   "metadata": {},
   "outputs": [],
   "source": [
    "def utility_from_obs(predicted_decision, true_decision, amount, duration, interest_rate):\n",
    "    \"\"\"Calculates utility from a single observation.\n",
    "\n",
    "    Args:\n",
    "        predicted_decision: the model's best action\n",
    "        true_decision: if the observation repaid or not\n",
    "        amount: the lending amount\n",
    "        duration: the number of periods\n",
    "        interest_rate: the interest rate of the loan\n",
    "\n",
    "    Returns:\n",
    "        The utility from the single observation given our action.\n",
    "    \"\"\"\n",
    "    if predicted_decision == 1:\n",
    "        if true_decision == 1:\n",
    "            return amount*((1 + interest_rate)**duration - 1)\n",
    "        else:\n",
    "            return -amount\n",
    "    else:\n",
    "        return 0"
   ]
  },
  {
   "cell_type": "code",
   "execution_count": 8,
   "metadata": {},
   "outputs": [],
   "source": [
    "def utility_from_test_set(X, y, decision_maker, interest_rate):\n",
    "    \"\"\"Calculates total utility from a given test set.\n",
    "\n",
    "    Args:\n",
    "        X: the covariates of the test set\n",
    "        y: the response variable of the test set\n",
    "        decision_maker: the decision maker to use in order to calculate utility\n",
    "        interest_rate: the interest rate to use when calculating utility\n",
    "\n",
    "    Returns:\n",
    "        The sum of utility from the test set and the sum of utility divided by\n",
    "        total amount.\n",
    "    \"\"\"\n",
    "\n",
    "    num_obs = len(X)\n",
    "    obs_utility = np.zeros(num_obs)\n",
    "    obs_amount = np.zeros_like(obs_utility)\n",
    "\n",
    "    for new_obs in range(num_obs):\n",
    "        predicted_decision = decision_maker.get_best_action(X.iloc[new_obs])\n",
    "        true_decision = y.iloc[new_obs]\n",
    "\n",
    "        amount = X['amount'].iloc[new_obs]\n",
    "        duration = X['duration'].iloc[new_obs]\n",
    "\n",
    "        obs_utility[new_obs] = utility_from_obs(\n",
    "            predicted_decision, true_decision, amount, duration, interest_rate)\n",
    "        obs_amount[new_obs] = amount\n",
    "\n",
    "    return np.sum(obs_utility), np.sum(obs_utility)/np.sum(obs_amount)"
   ]
  },
  {
   "cell_type": "code",
   "execution_count": 9,
   "metadata": {},
   "outputs": [],
   "source": [
    "def compare_decision_makers(num_of_tests, response, interest_rate):\n",
    "    \"\"\"Tests the random banker against our name banker.\n",
    "\n",
    "    Args:\n",
    "        num_of_tests: the number of tests to run\n",
    "        response: the name of the response variable\n",
    "        interest_rate: the interest rate to use when calculating utility\n",
    "    \"\"\"\n",
    "    bank_utility_random = np.zeros(num_of_tests)\n",
    "    bank_investment_random = np.zeros_like(bank_utility_random)\n",
    "    bank_utility_name = np.zeros(num_of_tests)\n",
    "    bank_investment_name = np.zeros_like(bank_utility_name)\n",
    "\n",
    "    # decision makers\n",
    "    r_banker = random_banker.RandomBanker()\n",
    "    r_banker.set_interest_rate(interest_rate)\n",
    "    n_banker = name_banker.NameBanker()\n",
    "    n_banker.set_interest_rate(interest_rate)\n",
    "\n",
    "    # get data\n",
    "    X = data\n",
    "    covariates = X.columns[X.columns != response]\n",
    "\n",
    "    for i in range(num_of_tests):\n",
    "        X_train, X_test, y_train, y_test = train_test_split(\n",
    "            X[covariates], X[response], test_size=0.2)\n",
    "\n",
    "        # fit models\n",
    "        r_banker.fit(X_train, y_train)\n",
    "        n_banker.fit(X_train, y_train)\n",
    "\n",
    "        bank_utility_random[i], bank_investment_random[i] = utility_from_test_set(\n",
    "            X_test, y_test, r_banker, interest_rate)\n",
    "        bank_utility_name[i], bank_investment_name[i] = utility_from_test_set(\n",
    "            X_test, y_test, n_banker, interest_rate)\n",
    "\n",
    "    print(\n",
    "        f\"Avg. utility [random]\\t= {np.sum(bank_utility_random)/num_of_tests}\")\n",
    "    print(\n",
    "        f\"Avg. ROI [random]    \\t= {np.sum(bank_investment_random)/num_of_tests}\")\n",
    "    print(\n",
    "        f\"Avg. utility [name]  \\t= {np.sum(bank_utility_name)/num_of_tests}\")\n",
    "    print(\n",
    "        f\"Avg. ROI [name]      \\t= {np.sum(bank_investment_name)/num_of_tests}\")\n"
   ]
  },
  {
   "cell_type": "code",
   "execution_count": 10,
   "metadata": {
    "tags": []
   },
   "outputs": [
    {
     "output_type": "stream",
     "name": "stdout",
     "text": "Avg. utility [random]\t= 592275.3023303407\nAvg. ROI [random]    \t= 0.9136178799312753\nAvg. utility [name]  \t= 1179658.5252952026\nAvg. ROI [name]      \t= 1.8242265461380003\nCPU times: user 3min 13s, sys: 3min 58s, total: 7min 12s\nWall time: 1min 8s\n"
    }
   ],
   "source": [
    "%%time\n",
    "response = 'repaid'\n",
    "compare_decision_makers(100, response, 0.05)"
   ]
  },
  {
   "source": [
    "## Results\n",
    "\n",
    "Based on 100 random train/test splits, our model using logistic regression is considerably better than the random model."
   ],
   "cell_type": "markdown",
   "metadata": {}
  }
 ]
}