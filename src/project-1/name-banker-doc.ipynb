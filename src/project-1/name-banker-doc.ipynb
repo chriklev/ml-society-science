{
 "cells": [
  {
   "cell_type": "markdown",
   "metadata": {},
   "source": [
    "# Model development\n",
    "\n",
    "## Expected utility\n",
    "\n",
    "If we do not give out the loan, the expected utility is $0$, as there is nothing to gain or loose. If we give a loan there are two possible outcomes; either they are able to pay it back with interest, or we loose the investment $m$. We can therefor write the expected utility if we give a loan as:\n",
    "$$E(U(x) | a = a_\\text{loan}) = m[(1+r)^n - 1] p(x_1) - m p(x_2),$$\n",
    "where $p(x_1)$ is the probability of paying back the loan with interest and $p(x_2)$ is the probability of loosing the interest."
   ]
  },
  {
   "cell_type": "code",
   "execution_count": 1,
   "metadata": {},
   "outputs": [],
   "source": [
    "def expected_utility(self, x, action):\n",
    "    \"\"\"Calculate expected utility.\n",
    "\n",
    "    Args:\n",
    "        x: A new observation.\n",
    "        action: Whether or not to grant the loan.\n",
    "    \"\"\"\n",
    "    if action == 0:\n",
    "        return 0\n",
    "\n",
    "    r = self.rate\n",
    "    p_c = self.predict_proba(x)\n",
    "\n",
    "    # duration in months\n",
    "    n = x['duration']\n",
    "    # amount\n",
    "    m = x['amount']\n",
    "\n",
    "    e_x = p_c * m * ((1 + r) ** n - 1) + (1 - p_c) * (-m)\n",
    "    return e_x"
   ]
  },
  {
   "cell_type": "markdown",
   "metadata": {},
   "source": [
    "## Fitting a model\n",
    "\n",
    "We chose to use a logistic regression model. It predicts the probability of a binary categorical variable beeing 1. A fresh random state is also given to the model for reproducable results."
   ]
  },
  {
   "cell_type": "code",
   "execution_count": 2,
   "metadata": {},
   "outputs": [],
   "source": [
    "def fit(self, X, y):\n",
    "    \"\"\"Fits a logistic regression model.\n",
    "\n",
    "    Args:\n",
    "        X: The covariates of the data set.\n",
    "        y: The response variable from the data set.\n",
    "    \"\"\"\n",
    "    self.data = [X, y]\n",
    "\n",
    "    log_reg_object = LogisticRegression(random_state=1, max_iter = 2000)\n",
    "    self.model = log_reg_object.fit(X, y)\n",
    "\n",
    "def predict_proba(self, x):\n",
    "    \"\"\"Predicts the probability for [0,1] given a new observation given the \n",
    "    model.\n",
    "\n",
    "    Args:\n",
    "        x: A new, independent observation.\n",
    "    Returns:\n",
    "        The prediction for class 1 given as the second element in the\n",
    "        probability array returned from the model.\n",
    "    \"\"\"\n",
    "    x = self._reshape(x)\n",
    "    return self.model.predict_proba(x)[0][1]\n",
    "\n",
    "def _reshape(self, x):\n",
    "    \"\"\"Reshapes Pandas Seris to a row vector.\n",
    "\n",
    "    Args:\n",
    "        x: Pandas Series.\n",
    "\n",
    "    Returns:\n",
    "        A ndarray as a row vector.\n",
    "    \"\"\"\n",
    "    return x.values.reshape((1, len(x)))"
   ]
  },
  {
   "cell_type": "markdown",
   "metadata": {},
   "source": [
    "When reading the data we one hot encode all the catagorical variables which means that they loose the information in the order. This could be fixed by instead giving them an integer value, but then we assume a linear relationship between the order of the categories.\n",
    "\n",
    "## Best action\n",
    "\n",
    "The best action is the action that gives the highest utility. In the event of the utilities beeing equal, we chose to not give a loan. Because of the linear utility of the investor it does not matter what we do in this situation, but we figured it is better to not accept unnecessary variability."
   ]
  },
  {
   "cell_type": "code",
   "execution_count": 3,
   "metadata": {},
   "outputs": [],
   "source": [
    "def get_best_action(self, x):\n",
    "    \"\"\"Gets the best action defined as the action that maximizes utility.\n",
    "\n",
    "    Args:\n",
    "        x: A new observation.\n",
    "    Returns:\n",
    "        Best action based on maximizing utility.\n",
    "    \"\"\"\n",
    "    expected_utility_give_loan = self.expected_utility(x, 1)\n",
    "    expected_utility_no_loan = self.expected_utility(x, 0)\n",
    "\n",
    "    if expected_utility_give_loan > expected_utility_no_loan:\n",
    "        return 1\n",
    "    else:\n",
    "        return 0"
   ]
  },
  {
   "cell_type": "markdown",
   "metadata": {},
   "source": [
    "# Testing the model against random model"
   ]
  },
  {
   "cell_type": "code",
   "execution_count": 4,
   "metadata": {
    "tags": []
   },
   "outputs": [
    {
     "name": "stdout",
     "output_type": "stream",
     "text": [
      "<class 'pandas.core.frame.DataFrame'>\n",
      "RangeIndex: 1000 entries, 0 to 999\n",
      "Data columns (total 21 columns):\n",
      " #   Column                    Non-Null Count  Dtype \n",
      "---  ------                    --------------  ----- \n",
      " 0   checking account balance  1000 non-null   object\n",
      " 1   duration                  1000 non-null   int64 \n",
      " 2   credit history            1000 non-null   object\n",
      " 3   purpose                   1000 non-null   object\n",
      " 4   amount                    1000 non-null   int64 \n",
      " 5   savings                   1000 non-null   object\n",
      " 6   employment                1000 non-null   object\n",
      " 7   installment               1000 non-null   int64 \n",
      " 8   marital status            1000 non-null   object\n",
      " 9   other debtors             1000 non-null   object\n",
      " 10  residence time            1000 non-null   int64 \n",
      " 11  property                  1000 non-null   object\n",
      " 12  age                       1000 non-null   int64 \n",
      " 13  other installments        1000 non-null   object\n",
      " 14  housing                   1000 non-null   object\n",
      " 15  credits                   1000 non-null   int64 \n",
      " 16  job                       1000 non-null   object\n",
      " 17  persons                   1000 non-null   int64 \n",
      " 18  phone                     1000 non-null   object\n",
      " 19  foreign                   1000 non-null   object\n",
      " 20  repaid                    1000 non-null   int64 \n",
      "dtypes: int64(8), object(13)\n",
      "memory usage: 164.2+ KB\n"
     ]
    }
   ],
   "source": [
    "import pandas as pd\n",
    "\n",
    "features = ['checking account balance', 'duration', 'credit history',\n",
    "            'purpose', 'amount', 'savings', 'employment', 'installment',\n",
    "            'marital status', 'other debtors', 'residence time',\n",
    "            'property', 'age', 'other installments', 'housing', 'credits',\n",
    "            'job', 'persons', 'phone', 'foreign', 'repaid']\n",
    "\n",
    "data_raw = pd.read_csv(\"../../data/credit/german.data\",\n",
    "                 delim_whitespace=True,\n",
    "                 names=features)\n",
    "data_raw.info()"
   ]
  },
  {
   "cell_type": "markdown",
   "metadata": {},
   "source": [
    "## Transforming the data set to a usable state"
   ]
  },
  {
   "cell_type": "code",
   "execution_count": 8,
   "metadata": {
    "tags": []
   },
   "outputs": [
    {
     "name": "stderr",
     "output_type": "stream",
     "text": [
      "<ipython-input-8-ad017a9a2f47>:6: SettingWithCopyWarning: \n",
      "A value is trying to be set on a copy of a slice from a DataFrame.\n",
      "Try using .loc[row_indexer,col_indexer] = value instead\n",
      "\n",
      "See the caveats in the documentation: https://pandas.pydata.org/pandas-docs/stable/user_guide/indexing.html#returning-a-view-versus-a-copy\n",
      "  data[\"repaid\"] = data_raw[\"repaid\"].map({1:1, 2:0})\n"
     ]
    }
   ],
   "source": [
    "numeric_variables = ['duration', 'age', 'residence time', 'installment',\n",
    "             'amount', 'persons', 'credits']\n",
    "data = data_raw[numeric_variables]\n",
    "\n",
    "# Mapping the response to 0 and 1\n",
    "data[\"repaid\"] = data_raw[\"repaid\"].map({1:1, 2:0})"
   ]
  },
  {
   "cell_type": "code",
   "execution_count": 14,
   "metadata": {
    "tags": []
   },
   "outputs": [],
   "source": [
    "# Create dummy variables for all the catagorical variables\n",
    "not_dummy_names = numeric_variables + [\"repaid\"]\n",
    "dummy_names = [x not in not_dummy_names for x in features]\n",
    "dummies = pd.get_dummies(data_raw.iloc[:,dummy_names], drop_first=True)\n",
    "data = data.join(dummies)"
   ]
  },
  {
   "cell_type": "code",
   "execution_count": 15,
   "metadata": {},
   "outputs": [
    {
     "name": "stdout",
     "output_type": "stream",
     "text": [
      "Index(['duration', 'age', 'residence time', 'installment', 'amount', 'persons',\n",
      "       'credits', 'repaid', 'checking account balance_A12',\n",
      "       'checking account balance_A13', 'checking account balance_A14',\n",
      "       'credit history_A31', 'credit history_A32', 'credit history_A33',\n",
      "       'credit history_A34', 'purpose_A41', 'purpose_A410', 'purpose_A42',\n",
      "       'purpose_A43', 'purpose_A44', 'purpose_A45', 'purpose_A46',\n",
      "       'purpose_A48', 'purpose_A49', 'savings_A62', 'savings_A63',\n",
      "       'savings_A64', 'savings_A65', 'employment_A72', 'employment_A73',\n",
      "       'employment_A74', 'employment_A75', 'marital status_A92',\n",
      "       'marital status_A93', 'marital status_A94', 'other debtors_A102',\n",
      "       'other debtors_A103', 'property_A122', 'property_A123', 'property_A124',\n",
      "       'other installments_A142', 'other installments_A143', 'housing_A152',\n",
      "       'housing_A153', 'job_A172', 'job_A173', 'job_A174', 'phone_A192',\n",
      "       'foreign_A202'],\n",
      "      dtype='object')\n"
     ]
    }
   ],
   "source": [
    "print(data.columns)"
   ]
  },
  {
   "cell_type": "code",
   "execution_count": null,
   "metadata": {},
   "outputs": [],
   "source": []
  }
 ],
 "metadata": {
  "kernelspec": {
   "display_name": "Python 3",
   "language": "python",
   "name": "python3"
  },
  "language_info": {
   "codemirror_mode": {
    "name": "ipython",
    "version": 3
   },
   "file_extension": ".py",
   "mimetype": "text/x-python",
   "name": "python",
   "nbconvert_exporter": "python",
   "pygments_lexer": "ipython3",
   "version": "3.8.3"
  }
 },
 "nbformat": 4,
 "nbformat_minor": 2
}
