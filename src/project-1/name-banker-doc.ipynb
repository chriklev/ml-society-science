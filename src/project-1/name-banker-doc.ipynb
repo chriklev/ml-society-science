{
 "cells": [
  {
   "cell_type": "markdown",
   "metadata": {},
   "source": [
    "# Model development\n",
    "\n",
    "## Expected utility\n",
    "\n",
    "If we do not give out the loan, the expected value is $0$, as there is nothing to gain or loose. If we give a loan, then there are two possible outcomes; either they are able to pay it back with interest, or we loose the investment $m$. We can therefor write the expected utility if we give a loan as:\n",
    "$$E(x | a = a_\\text{loan}) = m[(1+r)^n - 1] p(x_1) - m p(x_2),$$\n",
    "where $p(x_1)$ is the probability of paying back the loan with interest and $p(x_2)$ is the probability of loosing the interest."
   ]
  },
  {
   "cell_type": "code",
   "execution_count": null,
   "metadata": {},
   "outputs": [],
   "source": [
    "def expected_utility(self, x, action):\n",
    "        \"\"\"Calculate expected utility.\n",
    "\n",
    "        Args:\n",
    "            x: A new observation.\n",
    "            action: Whether or not to grant the loan.\n",
    "        \"\"\"\n",
    "        if action == 0:\n",
    "            return 0\n",
    "\n",
    "        r = self.rate\n",
    "        p_c = self.predict_proba(x)\n",
    "\n",
    "        # duration in months\n",
    "        n = x['duration']\n",
    "        # amount\n",
    "        m = x['amount']\n",
    "\n",
    "        e_x = p_c * m * ((1 + r) ** n - 1) + (1 - p_c) * (-m)\n",
    "        return e_x"
   ]
  },
  {
   "cell_type": "markdown",
   "metadata": {},
   "source": [
    "# Testing the model against random model"
   ]
  },
  {
   "cell_type": "code",
   "execution_count": 1,
   "metadata": {
    "tags": []
   },
   "outputs": [
    {
     "name": "stdout",
     "output_type": "stream",
     "text": [
      "<class 'pandas.core.frame.DataFrame'>\n",
      "RangeIndex: 1000 entries, 0 to 999\n",
      "Data columns (total 21 columns):\n",
      " #   Column                    Non-Null Count  Dtype \n",
      "---  ------                    --------------  ----- \n",
      " 0   checking account balance  1000 non-null   object\n",
      " 1   duration                  1000 non-null   int64 \n",
      " 2   credit history            1000 non-null   object\n",
      " 3   purpose                   1000 non-null   object\n",
      " 4   amount                    1000 non-null   int64 \n",
      " 5   savings                   1000 non-null   object\n",
      " 6   employment                1000 non-null   object\n",
      " 7   installment               1000 non-null   int64 \n",
      " 8   marital status            1000 non-null   object\n",
      " 9   other debtors             1000 non-null   object\n",
      " 10  residence time            1000 non-null   int64 \n",
      " 11  property                  1000 non-null   object\n",
      " 12  age                       1000 non-null   int64 \n",
      " 13  other installments        1000 non-null   object\n",
      " 14  housing                   1000 non-null   object\n",
      " 15  credits                   1000 non-null   int64 \n",
      " 16  job                       1000 non-null   object\n",
      " 17  persons                   1000 non-null   int64 \n",
      " 18  phone                     1000 non-null   object\n",
      " 19  foreign                   1000 non-null   object\n",
      " 20  repaid                    1000 non-null   int64 \n",
      "dtypes: int64(8), object(13)\n",
      "memory usage: 164.2+ KB\n"
     ]
    }
   ],
   "source": [
    "import pandas as pd\n",
    "\n",
    "features = ['checking account balance', 'duration', 'credit history',\n",
    "            'purpose', 'amount', 'savings', 'employment', 'installment',\n",
    "            'marital status', 'other debtors', 'residence time',\n",
    "            'property', 'age', 'other installments', 'housing', 'credits',\n",
    "            'job', 'persons', 'phone', 'foreign', 'repaid']\n",
    "\n",
    "data_raw = pd.read_csv(\"../../data/credit/german.data\",\n",
    "                 delim_whitespace=True,\n",
    "                 names=features)\n",
    "data_raw.info()"
   ]
  },
  {
   "cell_type": "markdown",
   "metadata": {},
   "source": [
    "## Transforming the data set to a usable state"
   ]
  },
  {
   "cell_type": "code",
   "execution_count": 2,
   "metadata": {
    "tags": []
   },
   "outputs": [],
   "source": [
    "numeric_variables = ['duration', 'age', 'residence time', 'installment',\n",
    "             'amount', 'persons', 'credits']\n",
    "data = data_raw[numeric_variables]\n",
    "\n",
    "# Mapping the response to 0 and 1\n",
    "data[\"repaid\"] = data_raw[\"repaid\"].map({1:1, 2:0})"
   ]
  },
  {
   "cell_type": "code",
   "execution_count": 3,
   "metadata": {
    "tags": []
   },
   "outputs": [],
   "source": [
    "# Create dummy variables for all the catagorical variables\n",
    "not_dummy_names = numeric_variables + [\"repaid\"]\n",
    "dummy_names = [x not in not_dummy_names for x in features]\n",
    "dummies = pd.get_dummies(data_raw.iloc[:,dummy_names], drop_first=True)\n",
    "data = data.join(dummies)"
   ]
  }
 ],
 "metadata": {
  "kernelspec": {
   "display_name": "Python 3",
   "language": "python",
   "name": "python3"
  },
  "language_info": {
   "codemirror_mode": {
    "name": "ipython",
    "version": 3
   },
   "file_extension": ".py",
   "mimetype": "text/x-python",
   "name": "python",
   "nbconvert_exporter": "python",
   "pygments_lexer": "ipython3",
   "version": "3.8.3"
  }
 },
 "nbformat": 4,
 "nbformat_minor": 2
}
